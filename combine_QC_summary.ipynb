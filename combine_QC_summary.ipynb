{
 "cells": [
  {
   "cell_type": "code",
   "execution_count": 1,
   "id": "ac9a93a4",
   "metadata": {},
   "outputs": [
    {
     "name": "stdout",
     "output_type": "stream",
     "text": [
      "folder path:C:\\Users\\xyy69\\Admera Health, LLC\\BPS - Documents\\Projects\\1 Active Project\\1731-CosmosID_JonRyan\\469-1731-almalvez-070622-16sV3V4\n",
      "['C:/Users/xyy69/Admera Health, LLC/BPS - Documents/Projects/1 Active Project/1731-CosmosID_JonRyan/469-1731-almalvez-070622-16sV3V4\\\\1731-469-2nd-QC summary.csv', 'C:/Users/xyy69/Admera Health, LLC/BPS - Documents/Projects/1 Active Project/1731-CosmosID_JonRyan/469-1731-almalvez-070622-16sV3V4\\\\1731-469-QC summary.csv']\n",
      "2\n"
     ]
    }
   ],
   "source": [
    "import pandas as pd\n",
    "import glob\n",
    "folder_name=input(\"folder path:\")\n",
    "folder_name=folder_name.replace(\"\\\\\",\"/\")\n",
    "QC_files=glob.glob(\"%s/*summary.csv\" %folder_name)\n",
    "print (QC_files)\n",
    "output_combined_QC_f=open(\"%s/1731-469-combined-QCsummary.csv\" %folder_name,\"w+\")\n",
    "QC_dict={}\n",
    "print (len(QC_files))\n",
    "for QC_file in QC_files:\n",
    "    QC_f=open(QC_file)\n",
    "    header=QC_f.readline()\n",
    "    for line in QC_f:\n",
    "        items=line.split(\",\")\n",
    "        sample_id=items[2]\n",
    "        if sample_id not in QC_dict.keys():\n",
    "            QC_dict[sample_id]=items\n",
    "        elif sample_id in QC_dict.keys():\n",
    "            QC_dict[sample_id][4]=str(int(QC_dict[sample_id][4])+int(items[4]))\n",
    "            QC_dict[sample_id][5]=str(int(QC_dict[sample_id][5])+int(items[5]))\n",
    "    QC_f.close()\n",
    "output_combined_QC_f.write(header)\n",
    "for key,value in QC_dict.items():\n",
    "    output_combined_QC_f.write(\",\".join(value))\n",
    "output_combined_QC_f.close()\n",
    "    "
   ]
  },
  {
   "cell_type": "code",
   "execution_count": null,
   "id": "c03c78e7",
   "metadata": {},
   "outputs": [],
   "source": [
    "output_combined_QC_f.close()"
   ]
  },
  {
   "cell_type": "code",
   "execution_count": null,
   "id": "b6fd2078",
   "metadata": {},
   "outputs": [],
   "source": [
    "QC_f.close()"
   ]
  },
  {
   "cell_type": "code",
   "execution_count": 4,
   "id": "c0654f37",
   "metadata": {},
   "outputs": [
    {
     "data": {
      "text/plain": [
       "250"
      ]
     },
     "execution_count": 4,
     "metadata": {},
     "output_type": "execute_result"
    }
   ],
   "source": [
    "len(\"AGGAGGCAGCAGTAGGGAATCTTGGACAATGGGCGCAAGCTTGATCCAGCTATTTCGCGTGGGTGATGAAGGTTATTTGGATCGTAAAACCCTTTCATGAAGATGATTAAATAATGCCTTATCTTCAAAAAGAAGCTCCGGCAAATTCTGTGCCAGCAGCCGCGGTAAGACAGGAGGAGCGAGTGTTATTCAGAATTATTGGGCGTAAAGGGCATGTAGGTGGATAGTTGTTGTTGATTGTGCCATTCCA\")"
   ]
  },
  {
   "cell_type": "code",
   "execution_count": 5,
   "id": "19a4e463",
   "metadata": {},
   "outputs": [
    {
     "data": {
      "text/plain": [
       "3"
      ]
     },
     "execution_count": 5,
     "metadata": {},
     "output_type": "execute_result"
    }
   ],
   "source": [
    "len(QC_files)"
   ]
  },
  {
   "cell_type": "code",
   "execution_count": 7,
   "id": "4183272e",
   "metadata": {},
   "outputs": [
    {
     "data": {
      "text/plain": [
       "'C:/Users/xyy69/Admera Health, LLC/BPS - Documents/Projects/1 Active Project/1731-CosmosID_JonRyan/448-1731-almalvez-052022-16SV1V3'"
      ]
     },
     "execution_count": 7,
     "metadata": {},
     "output_type": "execute_result"
    }
   ],
   "source": [
    "folder_name"
   ]
  },
  {
   "cell_type": "code",
   "execution_count": null,
   "id": "3b614201",
   "metadata": {},
   "outputs": [],
   "source": []
  }
 ],
 "metadata": {
  "kernelspec": {
   "display_name": "Python 3 (ipykernel)",
   "language": "python",
   "name": "python3"
  },
  "language_info": {
   "codemirror_mode": {
    "name": "ipython",
    "version": 3
   },
   "file_extension": ".py",
   "mimetype": "text/x-python",
   "name": "python",
   "nbconvert_exporter": "python",
   "pygments_lexer": "ipython3",
   "version": "3.9.7"
  }
 },
 "nbformat": 4,
 "nbformat_minor": 5
}
